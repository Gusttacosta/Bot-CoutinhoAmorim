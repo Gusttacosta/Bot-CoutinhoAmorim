{
 "cells": [
  {
   "cell_type": "code",
   "execution_count": 55,
   "metadata": {},
   "outputs": [
    {
     "name": "stdout",
     "output_type": "stream",
     "text": [
      "UTC\n"
     ]
    }
   ],
   "source": [
    "from os import read, write\n",
    "from Interacao import *\n",
    "import tweepy\n",
    "import datetime  as dt\n",
    "from datetime import timedelta\n",
    "\n",
    "hoje = dt.datetime.now(dt.timezone.utc)\n",
    "\n",
    "ontem = hoje - timedelta(days=1) \n",
    "\n",
    "#Informações da conta twitter developer\n",
    "api_key = os.environ[\"api_Key\"]\n",
    "api_secret_key = os.environ[\"api_secretK\"]\n",
    "acess_key = os.environ[\"accessTk\"]\n",
    "acess_secret = os.environ[\"accessTkS\"]\n",
    "\n",
    "#autenticação\n",
    "auth = tweepy.OAuthHandler(api_key, api_secret_key)\n",
    "auth.set_access_token(acess_key, acess_secret)\n",
    "api = tweepy.API(auth)\n",
    "\n",
    "\n",
    "#api.update_status(\"teste teste teste\")"
   ]
  },
  {
   "cell_type": "code",
   "execution_count": 56,
   "metadata": {},
   "outputs": [],
   "source": [
    "#Aqui busca todos os tweets do thiago (em breve da alime tb), \n",
    "thiago = \"@kkkj_15\"\n",
    "alime = \"@artwime\"\n",
    "rp_thiago = []\n",
    "\n",
    "for status in tweepy.Cursor(api.user_timeline, screen_name = thiago, tweet_mode= \"extended\").items():\n",
    "    if status.created_at <= hoje and status.created_at >=ontem:\n",
    "        rp_thiago.append(status.full_text)\n",
    "    \n",
    "\n"
   ]
  },
  {
   "cell_type": "code",
   "execution_count": 57,
   "metadata": {},
   "outputs": [
    {
     "name": "stdout",
     "output_type": "stream",
     "text": [
      "['@goleada_info @venecasagrande Goiás ta doidinho pra ser largado no meio da temporada quando o botafogo ou o são paulo tiver em crise', '@fatebetoneira Ofendeu tá', '@enzxbertx Tenho pavor de ver a reação do caleb quando ele perceber que argentino é racista', '@vaidesmaiar coitada', '@fatebetoneira só quem viveu sabe betoneira', '@anacloirasm sempre é bom né amor da minha vida', '@anacloirasm \\U0001fae2\\U0001fae2\\U0001fae2\\U0001fae2\\U0001fae2', 'literalmente eu terminando com a Isabella pela terceira vez e ela continuando indo em casa como se nada tivesse acontecido https://t.co/RPAFx02IRV', '@anacloirasm só depois que você instalar 😍😍 te amo vida pffvr n beija ngmkkk - &gt;https://t.co/D2jvR9mNwa', '@gulagcosta só o basico', '@anneluh2_0 🇧🇷🤜🤛🏳️\\u200d🌈', \"@anacloirasm 'me marca logo dhabo'\", '@anacloirasm para de me expor desgramada', '@TNTSportsBR engaleukkk', '@elonmusk ta faltando a pica de borracha que tu usa', 'whats app bloqueou meu numero de teste na semana de testes do bot 😍😍😍😍😍', 'RT @import_robs: O hexágono de Saturno é um dos mistérios do Sistema Solar 🪐\\n\\nÉ um formato de hexágono criado pela corrente de ar que tem n…', 'RT @camagalhaes_: 👉🏻🧠👈🏻 https://t.co/vK2MlpfOZ7', 'RT @postingeanime: https://t.co/7g99Sj9Ekr', 'melhor festival impossivel https://t.co/pFpdrNYP7V', '@uecaiu shape do gaules te amo gau', 'E digo mais https://t.co/PcqXoYCKhw', 'RT @diario1914: https://t.co/nDuLAuMO20', 'RT @BiodiversidadeB: Você conhece os tatus do Brasil? \\n\\nSão 10 espécies no país, distribuídas por todo território nacional.\\n\\nConheça agora…', '@artwime Macetava', '@artwime macetava', 'RT @Libertadores: 🏆🏆🏆 ¡Tricampeón! \\n\\n🔙🟢 Hace un año, @Palmeiras se consagraba campeón de la CONMEBOL #Libertadores 2021 tras vencer a Flame…', '@woodszin7 @viriniciuss', '@CentralDaSEP Imagina o mayke mantendo essa perfomance dele nesse jogo ai pelo resto das temporadas. Pasmem mas o tite levaria o daniel alves da mesma formakkk', '@Rajastx Ovibe junto com os seguidores da choquei', 'PEDRO CARMONA KKKKKKKKK https://t.co/sQB9qBMVG6', 'RT @pedhrixs: \"Foda-se o Neymar\"\\n\"Neymar tem inveja do Richarlison\"\\n\\nNeymar e Richarlison: https://t.co/WLQ6XXdtI1', 'RT @LeviKaique: O jovem que atirou era branco, filho de um PM que tinha afeição a Hitler. \\n\\nMas o Estadão opta por escolher a foto de uma a…', 'Fé https://t.co/ZIPv5UH3wB', 'KKKKKKKKKKKKKK https://t.co/6ZP2ggW9nX']\n"
     ]
    }
   ],
   "source": [
    "print(rp_thiago)"
   ]
  }
 ],
 "metadata": {
  "kernelspec": {
   "display_name": "Python 3.9.12 ('base')",
   "language": "python",
   "name": "python3"
  },
  "language_info": {
   "codemirror_mode": {
    "name": "ipython",
    "version": 3
   },
   "file_extension": ".py",
   "mimetype": "text/x-python",
   "name": "python",
   "nbconvert_exporter": "python",
   "pygments_lexer": "ipython3",
   "version": "3.9.12"
  },
  "orig_nbformat": 4,
  "vscode": {
   "interpreter": {
    "hash": "f63233f8b56870a90239d9e76a60fcec9103f7cc7e17bd2be49e9ab8ff808240"
   }
  }
 },
 "nbformat": 4,
 "nbformat_minor": 2
}
