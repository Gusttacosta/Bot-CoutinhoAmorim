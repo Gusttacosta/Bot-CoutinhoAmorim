{
 "cells": [
  {
   "cell_type": "code",
   "execution_count": 32,
   "metadata": {},
   "outputs": [],
   "source": [
    "from os import read, write\n",
    "import random\n",
    "import tweepy\n",
    "import datetime  as dt\n",
    "from datetime import timedelta\n",
    "\n",
    "hoje = dt.datetime.now(dt.timezone.utc)\n",
    "\n",
    "ontem = hoje - timedelta(days=1) \n",
    "\n",
    "#Informações da conta twitter developer\n",
    "api_key = os.environ[\"api_Key\"]\n",
    "api_secret_key = os.environ[\"api_secretK\"]\n",
    "acess_key = os.environ[\"accessTk\"]\n",
    "acess_secret = os.environ[\"accessTkS\"]\n",
    "\n",
    "#autenticação\n",
    "auth = tweepy.OAuthHandler(api_key, api_secret_key)\n",
    "auth.set_access_token(acess_key, acess_secret)\n",
    "api = tweepy.API(auth)\n",
    "\n",
    "\n",
    "#api.update_status(\"teste teste teste\")"
   ]
  },
  {
   "cell_type": "code",
   "execution_count": 14,
   "metadata": {},
   "outputs": [],
   "source": [
    "\n",
    "thiago = \"@kkkj_15\"\n",
    "alime = \"@artwime\"\n",
    "rp_aux = []\n",
    "#rp_thiago = [] depois separar quem recebeu a resposta para anexar ao tweet automatizado\n",
    "#rp_alime = []\n",
    "\n",
    "#Aqui busca todos os tweets do thiago e da alime se o do thiago não haver nenhuma menção a ela\n",
    "def interacao():\n",
    "    msg = str()\n",
    "    for status in tweepy.Cursor(api.user_timeline, screen_name = thiago, tweet_mode= \"extended\").items():\n",
    "        if status.created_at <= hoje and status.created_at >=ontem and alime in status.full_text:\n",
    "            rp_aux.append(status.full_text)\n",
    "    if len(rp_aux) == 0:\n",
    "        for status in tweepy.Cursor(api.user_timeline, screen_name = alime, tweet_mode= \"extended\").items():\n",
    "            if status.created_at <= hoje and status.created_at >=ontem and thiago in status.full_text:\n",
    "                rp_aux.append(status.full_text)\n",
    "    if len(rp_aux) == 0:\n",
    "        msg = \"triste\"\n",
    "    else: \n",
    "        msg = \"alegria\"\n",
    "    return msg\n",
    "\n",
    "\n"
   ]
  },
  {
   "cell_type": "code",
   "execution_count": 28,
   "metadata": {},
   "outputs": [],
   "source": [
    "#iniciando o array com as midias para escolher randomicamente\n",
    "tweetf = [\"emojifil.jpg\",\"gloria.mp4\",\"socialcredit.jpg\"]\n",
    "tweett = [\"kaneki.png\",\"socialcreditbad.jpg\",\"thiagotriste.jpg\",\"tristedms.mp4\",\"tristeemoii.jpg\",\"veiotriste.jpg\"]\n",
    "#Tweetada violenta\n",
    "def tweetada(mensagem):\n",
    "    if mensagem == \"alegria\":\n",
    "        x = random.randrange[0,2]\n",
    "        texto = \"Hoje teve interacão, o amor vive no seculo da putaria!!!\"\n",
    "        try:\n",
    "            api.update_status_with_media(filename=tweetf[x], status=texto)\n",
    "        except Exception as e:\n",
    "            api.update_status(f\"Deu ruim, segue o erro: {e}\\nAvise o Gustavo Costa imediatamente\")\n",
    "    else:\n",
    "        x = random.randrange[0,5]\n",
    "        texto = \"Nunca mais serei feliz, o amor morreu mais uma vez :(\"\n",
    "        try:\n",
    "            api.update_status_with_media(filename=tweett[x], status=texto)\n",
    "        except Exception as e:\n",
    "            api.update_status(f\"Deu ruim, segue o erro: {e}\\nAvise o Gustavo Costa imediatamente\")\n",
    "        "
   ]
  },
  {
   "cell_type": "code",
   "execution_count": 30,
   "metadata": {},
   "outputs": [],
   "source": [
    "def main():\n",
    "    tweetada(interacao())"
   ]
  },
  {
   "cell_type": "code",
   "execution_count": 34,
   "metadata": {},
   "outputs": [
    {
     "ename": "TypeError",
     "evalue": "'method' object is not subscriptable",
     "output_type": "error",
     "traceback": [
      "\u001b[1;31m---------------------------------------------------------------------------\u001b[0m",
      "\u001b[1;31mTypeError\u001b[0m                                 Traceback (most recent call last)",
      "\u001b[1;32mc:\\projects\\Bot-CoutinhoAmorim\\Bot-Amorime.ipynb Célula: 5\u001b[0m in \u001b[0;36m<cell line: 1>\u001b[1;34m()\u001b[0m\n\u001b[1;32m----> <a href='vscode-notebook-cell:/c%3A/projects/Bot-CoutinhoAmorim/Bot-Amorime.ipynb#X11sZmlsZQ%3D%3D?line=0'>1</a>\u001b[0m tweetada(interacao())\n",
      "\u001b[1;32mc:\\projects\\Bot-CoutinhoAmorim\\Bot-Amorime.ipynb Célula: 5\u001b[0m in \u001b[0;36mtweetada\u001b[1;34m(mensagem)\u001b[0m\n\u001b[0;32m      <a href='vscode-notebook-cell:/c%3A/projects/Bot-CoutinhoAmorim/Bot-Amorime.ipynb#X11sZmlsZQ%3D%3D?line=4'>5</a>\u001b[0m \u001b[39mdef\u001b[39;00m \u001b[39mtweetada\u001b[39m(mensagem):\n\u001b[0;32m      <a href='vscode-notebook-cell:/c%3A/projects/Bot-CoutinhoAmorim/Bot-Amorime.ipynb#X11sZmlsZQ%3D%3D?line=5'>6</a>\u001b[0m     \u001b[39mif\u001b[39;00m mensagem \u001b[39m==\u001b[39m \u001b[39m\"\u001b[39m\u001b[39malegria\u001b[39m\u001b[39m\"\u001b[39m:\n\u001b[1;32m----> <a href='vscode-notebook-cell:/c%3A/projects/Bot-CoutinhoAmorim/Bot-Amorime.ipynb#X11sZmlsZQ%3D%3D?line=6'>7</a>\u001b[0m         x \u001b[39m=\u001b[39m random\u001b[39m.\u001b[39;49mrandrange[\u001b[39m0\u001b[39;49m,\u001b[39mlen\u001b[39;49m(tweetf)\u001b[39m-\u001b[39;49m\u001b[39m1\u001b[39;49m]\n\u001b[0;32m      <a href='vscode-notebook-cell:/c%3A/projects/Bot-CoutinhoAmorim/Bot-Amorime.ipynb#X11sZmlsZQ%3D%3D?line=7'>8</a>\u001b[0m         texto \u001b[39m=\u001b[39m \u001b[39m\"\u001b[39m\u001b[39mHoje teve interacão, o amor vive no seculo da putaria!!!\u001b[39m\u001b[39m\"\u001b[39m\n\u001b[0;32m      <a href='vscode-notebook-cell:/c%3A/projects/Bot-CoutinhoAmorim/Bot-Amorime.ipynb#X11sZmlsZQ%3D%3D?line=8'>9</a>\u001b[0m         \u001b[39mtry\u001b[39;00m:\n",
      "\u001b[1;31mTypeError\u001b[0m: 'method' object is not subscriptable"
     ]
    }
   ],
   "source": [
    "tweetada(interacao())"
   ]
  }
 ],
 "metadata": {
  "kernelspec": {
   "display_name": "Python 3.9.12 ('base')",
   "language": "python",
   "name": "python3"
  },
  "language_info": {
   "codemirror_mode": {
    "name": "ipython",
    "version": 3
   },
   "file_extension": ".py",
   "mimetype": "text/x-python",
   "name": "python",
   "nbconvert_exporter": "python",
   "pygments_lexer": "ipython3",
   "version": "3.9.12"
  },
  "orig_nbformat": 4,
  "vscode": {
   "interpreter": {
    "hash": "f63233f8b56870a90239d9e76a60fcec9103f7cc7e17bd2be49e9ab8ff808240"
   }
  }
 },
 "nbformat": 4,
 "nbformat_minor": 2
}
