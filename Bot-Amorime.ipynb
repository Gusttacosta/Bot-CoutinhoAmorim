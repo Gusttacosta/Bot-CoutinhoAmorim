{
 "cells": [
  {
   "cell_type": "code",
   "execution_count": 3,
   "metadata": {},
   "outputs": [],
   "source": [
    "import random\n",
    "import os\n",
    "import tweepy\n",
    "import datetime as dt\n",
    "from datetime import timedelta\n",
    "from dotenv import load_dotenv\n",
    "\n",
    "load_dotenv(\"keys.env\")\n",
    "\n",
    "hoje = dt.datetime.now(dt.timezone.utc)\n",
    "\n",
    "ontem = hoje - timedelta(days=1) \n",
    "\n",
    "#Informações da conta twitter developer\n",
    "api_key = os.environ.get(\"api_Key\")\n",
    "api_secret_key = os.environ.get(\"api_secretK\")\n",
    "acess_key = os.environ.get(\"accessTk\")\n",
    "acess_secret = os.environ.get(\"accessTks\")\n",
    "\n",
    "#autenticação\n",
    "auth = tweepy.OAuthHandler(api_key, api_secret_key)\n",
    "auth.set_access_token(acess_key, acess_secret)\n",
    "api = tweepy.API(auth)"
   ]
  },
  {
   "cell_type": "code",
   "execution_count": 10,
   "metadata": {},
   "outputs": [],
   "source": [
    "\n",
    "thiago = \"@kkkj_15\"\n",
    "alime = \"@artwime\"\n",
    "rp_aux = []\n",
    "#rp_thiago = [] depois separar quem recebeu a resposta para anexar ao tweet automatizado\n",
    "#rp_alime = []\n",
    "\n",
    "#Aqui busca todos os tweets do thiago e da alime se o do thiago não haver nenhuma menção a ela\n",
    "def interacao():\n",
    "    msg = str()\n",
    "    for status in tweepy.Cursor(api.user_timeline, screen_name = thiago, tweet_mode= \"extended\").items():\n",
    "        if status.created_at <= hoje and status.created_at >=ontem and alime in status.full_text:\n",
    "            rp_aux.append(status.full_text)\n",
    "    if len(rp_aux) == 0:\n",
    "        for status in tweepy.Cursor(api.user_timeline, screen_name = alime, tweet_mode= \"extended\").items():\n",
    "            if status.created_at <= hoje and status.created_at >=ontem and thiago in status.full_text:\n",
    "                rp_aux.append(status.full_text)\n",
    "    if len(rp_aux) == 0:\n",
    "        msg = \"triste\"\n",
    "        \n",
    "    else: \n",
    "        msg = \"alegria\"\n",
    "    return msg\n",
    "\n",
    "\n"
   ]
  },
  {
   "cell_type": "code",
   "execution_count": 13,
   "metadata": {},
   "outputs": [],
   "source": [
    "#Tweetada violenta\n",
    "def tweetada(mensagem):\n",
    "    #iniciando o array com as midias para escolher randomicamente\n",
    "    tweetf = [\"media/emojifil.jpg\",\"media/gloria.mp4\",\"media/socialcredit.jpg\"]\n",
    "    tweett = [\"media/kaneki.png\",\"media/socialcreditbad.jpg\",\"media/thiagotriste.jpg\",\"media/tristedms.mp4\",\"media/tristeemoii.jpg\",\"media/veiotriste.jpg\"]\n",
    "    if mensagem == \"alegria\":\n",
    "        x = random.randrange(0,len(tweetf))\n",
    "        texto = \"Hoje teve interacão, o amor vive no seculo da putaria!!!\"\n",
    "        try:\n",
    "            api.update_status_with_media(filename = tweetf[x], status = texto)\n",
    "        except Exception as e:\n",
    "            api.update_status(f\"Deu ruim, segue o erro: {e}\\nAvise o ADM imediatamente\")\n",
    "    else:\n",
    "        x = random.randrange(0,len(tweett))\n",
    "        texto = \"Nunca mais serei feliz, o amor morreu mais uma vez :(\"\n",
    "        try:\n",
    "            api.update_status_with_media(filename = tweett[x], status = texto)\n",
    "        except Exception as e:\n",
    "            api.update_status(f\"Deu ruim, segue o erro: {e}\\nAvise o ADM imediatamente\")\n",
    "    \n",
    "\n",
    "def icon(mensagem):\n",
    "    #iniciando array com os icons\n",
    "    iconf = [\"media/icons/iconf1.jpeg\",\"media/icons/iconf2.jpeg\"]\n",
    "    icont = [\"media/icons/icont1.jpeg\"]\n",
    "\n",
    "    if mensagem == \"alegria\":\n",
    "        x = random.randrange(0,len(iconf))\n",
    "        try:\n",
    "            api.update_profile_image(filename = iconf[x])\n",
    "        except Exception as e:\n",
    "            api.update_status(f\"Deu ruim na hora de atualizar a foto do perfil, segue o erro: {e}\\nAvise o ADM imediatamente\")\n",
    "    else:\n",
    "        x = random.randrange(0,len(icont))\n",
    "        try:\n",
    "            api.update_profile_image(filename = icont[x])\n",
    "        except Exception as e:\n",
    "            api.update_status(f\"Deu ruim na hora de atualizar a foto do perfil, segue o erro: {e}\\nAvise o ADM imediatamente\")\n",
    "\n",
    "    global sentimento\n",
    "    sentimento = mensagem\n",
    "        "
   ]
  },
  {
   "cell_type": "code",
   "execution_count": 15,
   "metadata": {},
   "outputs": [],
   "source": [
    "icon(interacao())\n",
    "tweetada(sentimento)\n"
   ]
  }
 ],
 "metadata": {
  "kernelspec": {
   "display_name": "Python 3.9.12 ('base')",
   "language": "python",
   "name": "python3"
  },
  "language_info": {
   "codemirror_mode": {
    "name": "ipython",
    "version": 3
   },
   "file_extension": ".py",
   "mimetype": "text/x-python",
   "name": "python",
   "nbconvert_exporter": "python",
   "pygments_lexer": "ipython3",
   "version": "3.9.15"
  },
  "orig_nbformat": 4,
  "vscode": {
   "interpreter": {
    "hash": "f63233f8b56870a90239d9e76a60fcec9103f7cc7e17bd2be49e9ab8ff808240"
   }
  }
 },
 "nbformat": 4,
 "nbformat_minor": 2
}
