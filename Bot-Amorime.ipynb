{
 "cells": [
  {
   "cell_type": "code",
   "execution_count": 45,
   "metadata": {},
   "outputs": [],
   "source": [
    "import random\n",
    "import os\n",
    "import tweepy\n",
    "import datetime as dt\n",
    "from datetime import timedelta\n",
    "from dotenv import load_dotenv\n",
    "\n",
    "load_dotenv()\n",
    "\n",
    "hoje = dt.datetime.now(dt.timezone.utc)\n",
    "\n",
    "ontem = hoje - timedelta(days=1) \n",
    "\n",
    "#Informações da conta twitter developer\n",
    "api_key = os.environ.get(\"api_Key\")\n",
    "api_secret_key = os.environ.get(\"api_secretK\")\n",
    "acess_key = os.environ.get(\"accessTk\")\n",
    "acess_secret = os.environ.get(\"accessTks\")\n",
    "\n",
    "#autenticação\n",
    "auth = tweepy.OAuthHandler(api_key, api_secret_key)\n",
    "auth.set_access_token(acess_key, acess_secret)\n",
    "api = tweepy.API(auth)"
   ]
  },
  {
   "cell_type": "code",
   "execution_count": 44,
   "metadata": {},
   "outputs": [],
   "source": [
    "\n",
    "thiago = \"@kkkj_15\"\n",
    "alime = \"@artwime\"\n",
    "rp_aux = []\n",
    "#rp_thiago = [] depois separar quem recebeu a resposta para anexar ao tweet automatizado\n",
    "#rp_alime = []\n",
    "\n",
    "#Aqui busca todos os tweets do thiago e da alime se o do thiago não haver nenhuma menção a ela\n",
    "def interacao():\n",
    "    msg = str()\n",
    "    for status in tweepy.Cursor(api.user_timeline, screen_name = thiago, tweet_mode= \"extended\").items():\n",
    "        if status.created_at <= hoje and status.created_at >=ontem and alime in status.full_text:\n",
    "            rp_aux.append(status.full_text)\n",
    "    if len(rp_aux) == 0:\n",
    "        for status in tweepy.Cursor(api.user_timeline, screen_name = alime, tweet_mode= \"extended\").items():\n",
    "            if status.created_at <= hoje and status.created_at >=ontem and thiago in status.full_text:\n",
    "                rp_aux.append(status.full_text)\n",
    "    if len(rp_aux) == 0:\n",
    "        msg = \"triste\"\n",
    "    else: \n",
    "        msg = \"alegria\"\n",
    "    return msg\n",
    "\n",
    "\n"
   ]
  },
  {
   "cell_type": "code",
   "execution_count": 40,
   "metadata": {},
   "outputs": [],
   "source": [
    "#Tweetada violenta\n",
    "def tweetada(mensagem):\n",
    "    #iniciando o array com as midias para escolher randomicamente\n",
    "    tweetf = [\"media/emojifil.jpg\",\"media/gloria.mp4\",\"media/socialcredit.jpg\"]\n",
    "    tweett = [\"media/kaneki.png\",\"media/socialcreditbad.jpg\",\"media/thiagotriste.jpg\",\"media/tristedms.mp4\",\"media/tristeemoii.jpg\",\"media/veiotriste.jpg\"]\n",
    "    if mensagem == \"alegria\":\n",
    "        x = random.randrange(0,len(tweetf))\n",
    "        texto = \"Hoje teve interacão, o amor vive no seculo da putaria!!!\"\n",
    "        try:\n",
    "            api.update_status_with_media(filename=tweetf[x], status=texto)\n",
    "        except Exception as e:\n",
    "            api.update_status(f\"Deu ruim, segue o erro: {e}\\nAvise o Gustavo Costa imediatamente\")\n",
    "    else:\n",
    "        x = random.randrange(0,len(tweett))\n",
    "        texto = \"Nunca mais serei feliz, o amor morreu mais uma vez :(\"\n",
    "        try:\n",
    "            api.update_status_with_media(filename=tweett[x], status=texto)\n",
    "        except Exception as e:\n",
    "            api.update_status(f\"Deu ruim, segue o erro: {e}\\nAvise o Gustavo Costa imediatamente\")\n",
    "        "
   ]
  },
  {
   "cell_type": "code",
   "execution_count": 49,
   "metadata": {},
   "outputs": [
    {
     "ename": "Forbidden",
     "evalue": "403 Forbidden\n187 - Status is a duplicate.",
     "output_type": "error",
     "traceback": [
      "\u001b[1;31m---------------------------------------------------------------------------\u001b[0m",
      "\u001b[1;31mForbidden\u001b[0m                                 Traceback (most recent call last)",
      "Cell \u001b[1;32mIn [40], line 9\u001b[0m, in \u001b[0;36mtweetada\u001b[1;34m(mensagem)\u001b[0m\n\u001b[0;32m      8\u001b[0m \u001b[39mtry\u001b[39;00m:\n\u001b[1;32m----> 9\u001b[0m     api\u001b[39m.\u001b[39;49mupdate_status_with_media(filename\u001b[39m=\u001b[39;49mtweetf[x], status\u001b[39m=\u001b[39;49mtexto)\n\u001b[0;32m     10\u001b[0m \u001b[39mexcept\u001b[39;00m \u001b[39mException\u001b[39;00m \u001b[39mas\u001b[39;00m e:\n",
      "File \u001b[1;32mc:\\Users\\500033\\Anaconda3\\lib\\site-packages\\tweepy\\api.py:46\u001b[0m, in \u001b[0;36mpayload.<locals>.decorator.<locals>.wrapper\u001b[1;34m(*args, **kwargs)\u001b[0m\n\u001b[0;32m     45\u001b[0m kwargs[\u001b[39m'\u001b[39m\u001b[39mpayload_type\u001b[39m\u001b[39m'\u001b[39m] \u001b[39m=\u001b[39m payload_type\n\u001b[1;32m---> 46\u001b[0m \u001b[39mreturn\u001b[39;00m method(\u001b[39m*\u001b[39margs, \u001b[39m*\u001b[39m\u001b[39m*\u001b[39mkwargs)\n",
      "File \u001b[1;32mc:\\Users\\500033\\Anaconda3\\lib\\site-packages\\tweepy\\api.py:1206\u001b[0m, in \u001b[0;36mAPI.update_status_with_media\u001b[1;34m(self, status, filename, file, **kwargs)\u001b[0m\n\u001b[0;32m   1205\u001b[0m     files \u001b[39m=\u001b[39m {\u001b[39m'\u001b[39m\u001b[39mmedia[]\u001b[39m\u001b[39m'\u001b[39m: stack\u001b[39m.\u001b[39menter_context(\u001b[39mopen\u001b[39m(filename, \u001b[39m'\u001b[39m\u001b[39mrb\u001b[39m\u001b[39m'\u001b[39m))}\n\u001b[1;32m-> 1206\u001b[0m \u001b[39mreturn\u001b[39;00m \u001b[39mself\u001b[39m\u001b[39m.\u001b[39mrequest(\n\u001b[0;32m   1207\u001b[0m     \u001b[39m'\u001b[39m\u001b[39mPOST\u001b[39m\u001b[39m'\u001b[39m, \u001b[39m'\u001b[39m\u001b[39mstatuses/update_with_media\u001b[39m\u001b[39m'\u001b[39m, endpoint_parameters\u001b[39m=\u001b[39m(\n\u001b[0;32m   1208\u001b[0m         \u001b[39m'\u001b[39m\u001b[39mstatus\u001b[39m\u001b[39m'\u001b[39m, \u001b[39m'\u001b[39m\u001b[39mpossibly_sensitive\u001b[39m\u001b[39m'\u001b[39m, \u001b[39m'\u001b[39m\u001b[39min_reply_to_status_id\u001b[39m\u001b[39m'\u001b[39m,\n\u001b[0;32m   1209\u001b[0m         \u001b[39m'\u001b[39m\u001b[39mlat\u001b[39m\u001b[39m'\u001b[39m, \u001b[39m'\u001b[39m\u001b[39mlong\u001b[39m\u001b[39m'\u001b[39m, \u001b[39m'\u001b[39m\u001b[39mplace_id\u001b[39m\u001b[39m'\u001b[39m, \u001b[39m'\u001b[39m\u001b[39mdisplay_coordinates\u001b[39m\u001b[39m'\u001b[39m\n\u001b[0;32m   1210\u001b[0m     ), status\u001b[39m=\u001b[39mstatus, files\u001b[39m=\u001b[39mfiles, \u001b[39m*\u001b[39m\u001b[39m*\u001b[39mkwargs\n\u001b[0;32m   1211\u001b[0m )\n",
      "File \u001b[1;32mc:\\Users\\500033\\Anaconda3\\lib\\site-packages\\tweepy\\api.py:265\u001b[0m, in \u001b[0;36mAPI.request\u001b[1;34m(self, method, endpoint, endpoint_parameters, params, headers, json_payload, parser, payload_list, payload_type, post_data, files, require_auth, return_cursors, upload_api, use_cache, **kwargs)\u001b[0m\n\u001b[0;32m    264\u001b[0m \u001b[39mif\u001b[39;00m resp\u001b[39m.\u001b[39mstatus_code \u001b[39m==\u001b[39m \u001b[39m403\u001b[39m:\n\u001b[1;32m--> 265\u001b[0m     \u001b[39mraise\u001b[39;00m Forbidden(resp)\n\u001b[0;32m    266\u001b[0m \u001b[39mif\u001b[39;00m resp\u001b[39m.\u001b[39mstatus_code \u001b[39m==\u001b[39m \u001b[39m404\u001b[39m:\n",
      "\u001b[1;31mForbidden\u001b[0m: 403 Forbidden\n189 - Error creating status.",
      "\nDuring handling of the above exception, another exception occurred:\n",
      "\u001b[1;31mForbidden\u001b[0m                                 Traceback (most recent call last)",
      "Cell \u001b[1;32mIn [49], line 1\u001b[0m\n\u001b[1;32m----> 1\u001b[0m tweetada(interacao())\n",
      "Cell \u001b[1;32mIn [40], line 11\u001b[0m, in \u001b[0;36mtweetada\u001b[1;34m(mensagem)\u001b[0m\n\u001b[0;32m      9\u001b[0m         api\u001b[39m.\u001b[39mupdate_status_with_media(filename\u001b[39m=\u001b[39mtweetf[x], status\u001b[39m=\u001b[39mtexto)\n\u001b[0;32m     10\u001b[0m     \u001b[39mexcept\u001b[39;00m \u001b[39mException\u001b[39;00m \u001b[39mas\u001b[39;00m e:\n\u001b[1;32m---> 11\u001b[0m         api\u001b[39m.\u001b[39;49mupdate_status(\u001b[39mf\u001b[39;49m\u001b[39m\"\u001b[39;49m\u001b[39mDeu ruim, segue o erro: \u001b[39;49m\u001b[39m{\u001b[39;49;00me\u001b[39m}\u001b[39;49;00m\u001b[39m\\n\u001b[39;49;00m\u001b[39mAvise o Gustavo Costa imediatamente\u001b[39;49m\u001b[39m\"\u001b[39;49m)\n\u001b[0;32m     12\u001b[0m \u001b[39melse\u001b[39;00m:\n\u001b[0;32m     13\u001b[0m     x \u001b[39m=\u001b[39m random\u001b[39m.\u001b[39mrandrange(\u001b[39m0\u001b[39m,\u001b[39mlen\u001b[39m(tweett))\n",
      "File \u001b[1;32mc:\\Users\\500033\\Anaconda3\\lib\\site-packages\\tweepy\\api.py:46\u001b[0m, in \u001b[0;36mpayload.<locals>.decorator.<locals>.wrapper\u001b[1;34m(*args, **kwargs)\u001b[0m\n\u001b[0;32m     44\u001b[0m kwargs[\u001b[39m'\u001b[39m\u001b[39mpayload_list\u001b[39m\u001b[39m'\u001b[39m] \u001b[39m=\u001b[39m payload_list\n\u001b[0;32m     45\u001b[0m kwargs[\u001b[39m'\u001b[39m\u001b[39mpayload_type\u001b[39m\u001b[39m'\u001b[39m] \u001b[39m=\u001b[39m payload_type\n\u001b[1;32m---> 46\u001b[0m \u001b[39mreturn\u001b[39;00m method(\u001b[39m*\u001b[39margs, \u001b[39m*\u001b[39m\u001b[39m*\u001b[39mkwargs)\n",
      "File \u001b[1;32mc:\\Users\\500033\\Anaconda3\\lib\\site-packages\\tweepy\\api.py:1142\u001b[0m, in \u001b[0;36mAPI.update_status\u001b[1;34m(self, status, **kwargs)\u001b[0m\n\u001b[0;32m   1139\u001b[0m \u001b[39mif\u001b[39;00m \u001b[39m'\u001b[39m\u001b[39mmedia_ids\u001b[39m\u001b[39m'\u001b[39m \u001b[39min\u001b[39;00m kwargs:\n\u001b[0;32m   1140\u001b[0m     kwargs[\u001b[39m'\u001b[39m\u001b[39mmedia_ids\u001b[39m\u001b[39m'\u001b[39m] \u001b[39m=\u001b[39m list_to_csv(kwargs[\u001b[39m'\u001b[39m\u001b[39mmedia_ids\u001b[39m\u001b[39m'\u001b[39m])\n\u001b[1;32m-> 1142\u001b[0m \u001b[39mreturn\u001b[39;00m \u001b[39mself\u001b[39m\u001b[39m.\u001b[39mrequest(\n\u001b[0;32m   1143\u001b[0m     \u001b[39m'\u001b[39m\u001b[39mPOST\u001b[39m\u001b[39m'\u001b[39m, \u001b[39m'\u001b[39m\u001b[39mstatuses/update\u001b[39m\u001b[39m'\u001b[39m, endpoint_parameters\u001b[39m=\u001b[39m(\n\u001b[0;32m   1144\u001b[0m         \u001b[39m'\u001b[39m\u001b[39mstatus\u001b[39m\u001b[39m'\u001b[39m, \u001b[39m'\u001b[39m\u001b[39min_reply_to_status_id\u001b[39m\u001b[39m'\u001b[39m,\n\u001b[0;32m   1145\u001b[0m         \u001b[39m'\u001b[39m\u001b[39mauto_populate_reply_metadata\u001b[39m\u001b[39m'\u001b[39m, \u001b[39m'\u001b[39m\u001b[39mexclude_reply_user_ids\u001b[39m\u001b[39m'\u001b[39m,\n\u001b[0;32m   1146\u001b[0m         \u001b[39m'\u001b[39m\u001b[39mattachment_url\u001b[39m\u001b[39m'\u001b[39m, \u001b[39m'\u001b[39m\u001b[39mmedia_ids\u001b[39m\u001b[39m'\u001b[39m, \u001b[39m'\u001b[39m\u001b[39mpossibly_sensitive\u001b[39m\u001b[39m'\u001b[39m, \u001b[39m'\u001b[39m\u001b[39mlat\u001b[39m\u001b[39m'\u001b[39m,\n\u001b[0;32m   1147\u001b[0m         \u001b[39m'\u001b[39m\u001b[39mlong\u001b[39m\u001b[39m'\u001b[39m, \u001b[39m'\u001b[39m\u001b[39mplace_id\u001b[39m\u001b[39m'\u001b[39m, \u001b[39m'\u001b[39m\u001b[39mdisplay_coordinates\u001b[39m\u001b[39m'\u001b[39m, \u001b[39m'\u001b[39m\u001b[39mtrim_user\u001b[39m\u001b[39m'\u001b[39m,\n\u001b[0;32m   1148\u001b[0m         \u001b[39m'\u001b[39m\u001b[39mcard_uri\u001b[39m\u001b[39m'\u001b[39m\n\u001b[0;32m   1149\u001b[0m     ), status\u001b[39m=\u001b[39mstatus, \u001b[39m*\u001b[39m\u001b[39m*\u001b[39mkwargs\n\u001b[0;32m   1150\u001b[0m )\n",
      "File \u001b[1;32mc:\\Users\\500033\\Anaconda3\\lib\\site-packages\\tweepy\\api.py:265\u001b[0m, in \u001b[0;36mAPI.request\u001b[1;34m(self, method, endpoint, endpoint_parameters, params, headers, json_payload, parser, payload_list, payload_type, post_data, files, require_auth, return_cursors, upload_api, use_cache, **kwargs)\u001b[0m\n\u001b[0;32m    263\u001b[0m     \u001b[39mraise\u001b[39;00m Unauthorized(resp)\n\u001b[0;32m    264\u001b[0m \u001b[39mif\u001b[39;00m resp\u001b[39m.\u001b[39mstatus_code \u001b[39m==\u001b[39m \u001b[39m403\u001b[39m:\n\u001b[1;32m--> 265\u001b[0m     \u001b[39mraise\u001b[39;00m Forbidden(resp)\n\u001b[0;32m    266\u001b[0m \u001b[39mif\u001b[39;00m resp\u001b[39m.\u001b[39mstatus_code \u001b[39m==\u001b[39m \u001b[39m404\u001b[39m:\n\u001b[0;32m    267\u001b[0m     \u001b[39mraise\u001b[39;00m NotFound(resp)\n",
      "\u001b[1;31mForbidden\u001b[0m: 403 Forbidden\n187 - Status is a duplicate."
     ]
    }
   ],
   "source": [
    "tweetada(interacao())\n"
   ]
  }
 ],
 "metadata": {
  "kernelspec": {
   "display_name": "Python 3.9.12 ('base')",
   "language": "python",
   "name": "python3"
  },
  "language_info": {
   "codemirror_mode": {
    "name": "ipython",
    "version": 3
   },
   "file_extension": ".py",
   "mimetype": "text/x-python",
   "name": "python",
   "nbconvert_exporter": "python",
   "pygments_lexer": "ipython3",
   "version": "3.9.15"
  },
  "orig_nbformat": 4,
  "vscode": {
   "interpreter": {
    "hash": "f63233f8b56870a90239d9e76a60fcec9103f7cc7e17bd2be49e9ab8ff808240"
   }
  }
 },
 "nbformat": 4,
 "nbformat_minor": 2
}
